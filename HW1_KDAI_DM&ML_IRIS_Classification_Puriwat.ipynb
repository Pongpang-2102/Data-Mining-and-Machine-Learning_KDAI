{
  "nbformat": 4,
  "nbformat_minor": 0,
  "metadata": {
    "colab": {
      "provenance": [],
      "toc_visible": true,
      "include_colab_link": true
    },
    "kernelspec": {
      "name": "python3",
      "display_name": "Python 3"
    }
  },
  "cells": [
    {
      "cell_type": "markdown",
      "metadata": {
        "id": "view-in-github",
        "colab_type": "text"
      },
      "source": [
        "<a href=\"https://colab.research.google.com/github/Pongpang-2102/Data-Mining-and-Machine-Learning_KDAI-Project/blob/main/HW1_KDAI_DM%26ML_IRIS_Classification_Puriwat.ipynb\" target=\"_parent\"><img src=\"https://colab.research.google.com/assets/colab-badge.svg\" alt=\"Open In Colab\"/></a>"
      ]
    },
    {
      "cell_type": "markdown",
      "source": [
        "- Author : Puriwat Sangrawee\n",
        "- Student ID : 65056071\n"
      ],
      "metadata": {
        "id": "aMEvhFuYL-AT"
      }
    },
    {
      "cell_type": "markdown",
      "source": [
        "# Using Neuron Network for IRIS Classification"
      ],
      "metadata": {
        "id": "cwZjo01sMOxY"
      }
    },
    {
      "cell_type": "markdown",
      "source": [
        "## 1. Prepare Environment"
      ],
      "metadata": {
        "id": "TBDyl45NMJgD"
      }
    },
    {
      "cell_type": "code",
      "metadata": {
        "id": "LQNZ6FN68HXq"
      },
      "source": [
        "# Importing Packages\n",
        "import numpy as np\n",
        "import keras\n",
        "from keras.models import Sequential\n",
        "from keras.layers import Dense\n",
        "from sklearn import datasets"
      ],
      "execution_count": 21,
      "outputs": []
    },
    {
      "cell_type": "markdown",
      "metadata": {
        "id": "EGAMcSa4M56Z"
      },
      "source": [
        "The Iris dataset has 150 observations or Rows and 5 atttibutes or Columns of Iris Flowers.\n",
        "\n",
        "First four columns are - **Sepal Length, Sepal Width , Petal Length, Petal Width**, all are in cm.\n",
        "\n",
        "\n",
        "---\n",
        "\n",
        "\n",
        "The Last column is containing the Classes - **['setosa' 'versicolor' 'virginica']**\n",
        "\n",
        "\n",
        "---\n",
        "\n",
        "\n",
        "As we are loading the dataset from sklearn, the dataset is already pre-processed.\n",
        "\n",
        "**So, the Classes are - [ 0 , 1 , 2 ] instead of ['setosa' 'versicolor' 'virginica'].**"
      ]
    },
    {
      "cell_type": "markdown",
      "source": [
        "## 2. Loading Dataset"
      ],
      "metadata": {
        "id": "jFgvIYlmMYcW"
      }
    },
    {
      "cell_type": "code",
      "metadata": {
        "id": "iCbJLcwzB2nw",
        "colab": {
          "base_uri": "https://localhost:8080/"
        },
        "outputId": "5f928cb3-d9fb-4f22-a3fb-1d3f5b6c0525"
      },
      "source": [
        "# Loading Dataset\n",
        "data = datasets.load_iris()\n",
        "print(data)"
      ],
      "execution_count": 45,
      "outputs": [
        {
          "output_type": "stream",
          "name": "stdout",
          "text": [
            "{'data': array([[5.1, 3.5, 1.4, 0.2],\n",
            "       [4.9, 3. , 1.4, 0.2],\n",
            "       [4.7, 3.2, 1.3, 0.2],\n",
            "       [4.6, 3.1, 1.5, 0.2],\n",
            "       [5. , 3.6, 1.4, 0.2],\n",
            "       [5.4, 3.9, 1.7, 0.4],\n",
            "       [4.6, 3.4, 1.4, 0.3],\n",
            "       [5. , 3.4, 1.5, 0.2],\n",
            "       [4.4, 2.9, 1.4, 0.2],\n",
            "       [4.9, 3.1, 1.5, 0.1],\n",
            "       [5.4, 3.7, 1.5, 0.2],\n",
            "       [4.8, 3.4, 1.6, 0.2],\n",
            "       [4.8, 3. , 1.4, 0.1],\n",
            "       [4.3, 3. , 1.1, 0.1],\n",
            "       [5.8, 4. , 1.2, 0.2],\n",
            "       [5.7, 4.4, 1.5, 0.4],\n",
            "       [5.4, 3.9, 1.3, 0.4],\n",
            "       [5.1, 3.5, 1.4, 0.3],\n",
            "       [5.7, 3.8, 1.7, 0.3],\n",
            "       [5.1, 3.8, 1.5, 0.3],\n",
            "       [5.4, 3.4, 1.7, 0.2],\n",
            "       [5.1, 3.7, 1.5, 0.4],\n",
            "       [4.6, 3.6, 1. , 0.2],\n",
            "       [5.1, 3.3, 1.7, 0.5],\n",
            "       [4.8, 3.4, 1.9, 0.2],\n",
            "       [5. , 3. , 1.6, 0.2],\n",
            "       [5. , 3.4, 1.6, 0.4],\n",
            "       [5.2, 3.5, 1.5, 0.2],\n",
            "       [5.2, 3.4, 1.4, 0.2],\n",
            "       [4.7, 3.2, 1.6, 0.2],\n",
            "       [4.8, 3.1, 1.6, 0.2],\n",
            "       [5.4, 3.4, 1.5, 0.4],\n",
            "       [5.2, 4.1, 1.5, 0.1],\n",
            "       [5.5, 4.2, 1.4, 0.2],\n",
            "       [4.9, 3.1, 1.5, 0.2],\n",
            "       [5. , 3.2, 1.2, 0.2],\n",
            "       [5.5, 3.5, 1.3, 0.2],\n",
            "       [4.9, 3.6, 1.4, 0.1],\n",
            "       [4.4, 3. , 1.3, 0.2],\n",
            "       [5.1, 3.4, 1.5, 0.2],\n",
            "       [5. , 3.5, 1.3, 0.3],\n",
            "       [4.5, 2.3, 1.3, 0.3],\n",
            "       [4.4, 3.2, 1.3, 0.2],\n",
            "       [5. , 3.5, 1.6, 0.6],\n",
            "       [5.1, 3.8, 1.9, 0.4],\n",
            "       [4.8, 3. , 1.4, 0.3],\n",
            "       [5.1, 3.8, 1.6, 0.2],\n",
            "       [4.6, 3.2, 1.4, 0.2],\n",
            "       [5.3, 3.7, 1.5, 0.2],\n",
            "       [5. , 3.3, 1.4, 0.2],\n",
            "       [7. , 3.2, 4.7, 1.4],\n",
            "       [6.4, 3.2, 4.5, 1.5],\n",
            "       [6.9, 3.1, 4.9, 1.5],\n",
            "       [5.5, 2.3, 4. , 1.3],\n",
            "       [6.5, 2.8, 4.6, 1.5],\n",
            "       [5.7, 2.8, 4.5, 1.3],\n",
            "       [6.3, 3.3, 4.7, 1.6],\n",
            "       [4.9, 2.4, 3.3, 1. ],\n",
            "       [6.6, 2.9, 4.6, 1.3],\n",
            "       [5.2, 2.7, 3.9, 1.4],\n",
            "       [5. , 2. , 3.5, 1. ],\n",
            "       [5.9, 3. , 4.2, 1.5],\n",
            "       [6. , 2.2, 4. , 1. ],\n",
            "       [6.1, 2.9, 4.7, 1.4],\n",
            "       [5.6, 2.9, 3.6, 1.3],\n",
            "       [6.7, 3.1, 4.4, 1.4],\n",
            "       [5.6, 3. , 4.5, 1.5],\n",
            "       [5.8, 2.7, 4.1, 1. ],\n",
            "       [6.2, 2.2, 4.5, 1.5],\n",
            "       [5.6, 2.5, 3.9, 1.1],\n",
            "       [5.9, 3.2, 4.8, 1.8],\n",
            "       [6.1, 2.8, 4. , 1.3],\n",
            "       [6.3, 2.5, 4.9, 1.5],\n",
            "       [6.1, 2.8, 4.7, 1.2],\n",
            "       [6.4, 2.9, 4.3, 1.3],\n",
            "       [6.6, 3. , 4.4, 1.4],\n",
            "       [6.8, 2.8, 4.8, 1.4],\n",
            "       [6.7, 3. , 5. , 1.7],\n",
            "       [6. , 2.9, 4.5, 1.5],\n",
            "       [5.7, 2.6, 3.5, 1. ],\n",
            "       [5.5, 2.4, 3.8, 1.1],\n",
            "       [5.5, 2.4, 3.7, 1. ],\n",
            "       [5.8, 2.7, 3.9, 1.2],\n",
            "       [6. , 2.7, 5.1, 1.6],\n",
            "       [5.4, 3. , 4.5, 1.5],\n",
            "       [6. , 3.4, 4.5, 1.6],\n",
            "       [6.7, 3.1, 4.7, 1.5],\n",
            "       [6.3, 2.3, 4.4, 1.3],\n",
            "       [5.6, 3. , 4.1, 1.3],\n",
            "       [5.5, 2.5, 4. , 1.3],\n",
            "       [5.5, 2.6, 4.4, 1.2],\n",
            "       [6.1, 3. , 4.6, 1.4],\n",
            "       [5.8, 2.6, 4. , 1.2],\n",
            "       [5. , 2.3, 3.3, 1. ],\n",
            "       [5.6, 2.7, 4.2, 1.3],\n",
            "       [5.7, 3. , 4.2, 1.2],\n",
            "       [5.7, 2.9, 4.2, 1.3],\n",
            "       [6.2, 2.9, 4.3, 1.3],\n",
            "       [5.1, 2.5, 3. , 1.1],\n",
            "       [5.7, 2.8, 4.1, 1.3],\n",
            "       [6.3, 3.3, 6. , 2.5],\n",
            "       [5.8, 2.7, 5.1, 1.9],\n",
            "       [7.1, 3. , 5.9, 2.1],\n",
            "       [6.3, 2.9, 5.6, 1.8],\n",
            "       [6.5, 3. , 5.8, 2.2],\n",
            "       [7.6, 3. , 6.6, 2.1],\n",
            "       [4.9, 2.5, 4.5, 1.7],\n",
            "       [7.3, 2.9, 6.3, 1.8],\n",
            "       [6.7, 2.5, 5.8, 1.8],\n",
            "       [7.2, 3.6, 6.1, 2.5],\n",
            "       [6.5, 3.2, 5.1, 2. ],\n",
            "       [6.4, 2.7, 5.3, 1.9],\n",
            "       [6.8, 3. , 5.5, 2.1],\n",
            "       [5.7, 2.5, 5. , 2. ],\n",
            "       [5.8, 2.8, 5.1, 2.4],\n",
            "       [6.4, 3.2, 5.3, 2.3],\n",
            "       [6.5, 3. , 5.5, 1.8],\n",
            "       [7.7, 3.8, 6.7, 2.2],\n",
            "       [7.7, 2.6, 6.9, 2.3],\n",
            "       [6. , 2.2, 5. , 1.5],\n",
            "       [6.9, 3.2, 5.7, 2.3],\n",
            "       [5.6, 2.8, 4.9, 2. ],\n",
            "       [7.7, 2.8, 6.7, 2. ],\n",
            "       [6.3, 2.7, 4.9, 1.8],\n",
            "       [6.7, 3.3, 5.7, 2.1],\n",
            "       [7.2, 3.2, 6. , 1.8],\n",
            "       [6.2, 2.8, 4.8, 1.8],\n",
            "       [6.1, 3. , 4.9, 1.8],\n",
            "       [6.4, 2.8, 5.6, 2.1],\n",
            "       [7.2, 3. , 5.8, 1.6],\n",
            "       [7.4, 2.8, 6.1, 1.9],\n",
            "       [7.9, 3.8, 6.4, 2. ],\n",
            "       [6.4, 2.8, 5.6, 2.2],\n",
            "       [6.3, 2.8, 5.1, 1.5],\n",
            "       [6.1, 2.6, 5.6, 1.4],\n",
            "       [7.7, 3. , 6.1, 2.3],\n",
            "       [6.3, 3.4, 5.6, 2.4],\n",
            "       [6.4, 3.1, 5.5, 1.8],\n",
            "       [6. , 3. , 4.8, 1.8],\n",
            "       [6.9, 3.1, 5.4, 2.1],\n",
            "       [6.7, 3.1, 5.6, 2.4],\n",
            "       [6.9, 3.1, 5.1, 2.3],\n",
            "       [5.8, 2.7, 5.1, 1.9],\n",
            "       [6.8, 3.2, 5.9, 2.3],\n",
            "       [6.7, 3.3, 5.7, 2.5],\n",
            "       [6.7, 3. , 5.2, 2.3],\n",
            "       [6.3, 2.5, 5. , 1.9],\n",
            "       [6.5, 3. , 5.2, 2. ],\n",
            "       [6.2, 3.4, 5.4, 2.3],\n",
            "       [5.9, 3. , 5.1, 1.8]]), 'target': array([0, 0, 0, 0, 0, 0, 0, 0, 0, 0, 0, 0, 0, 0, 0, 0, 0, 0, 0, 0, 0, 0,\n",
            "       0, 0, 0, 0, 0, 0, 0, 0, 0, 0, 0, 0, 0, 0, 0, 0, 0, 0, 0, 0, 0, 0,\n",
            "       0, 0, 0, 0, 0, 0, 1, 1, 1, 1, 1, 1, 1, 1, 1, 1, 1, 1, 1, 1, 1, 1,\n",
            "       1, 1, 1, 1, 1, 1, 1, 1, 1, 1, 1, 1, 1, 1, 1, 1, 1, 1, 1, 1, 1, 1,\n",
            "       1, 1, 1, 1, 1, 1, 1, 1, 1, 1, 1, 1, 2, 2, 2, 2, 2, 2, 2, 2, 2, 2,\n",
            "       2, 2, 2, 2, 2, 2, 2, 2, 2, 2, 2, 2, 2, 2, 2, 2, 2, 2, 2, 2, 2, 2,\n",
            "       2, 2, 2, 2, 2, 2, 2, 2, 2, 2, 2, 2, 2, 2, 2, 2, 2, 2]), 'frame': None, 'target_names': array(['setosa', 'versicolor', 'virginica'], dtype='<U10'), 'DESCR': '.. _iris_dataset:\\n\\nIris plants dataset\\n--------------------\\n\\n**Data Set Characteristics:**\\n\\n    :Number of Instances: 150 (50 in each of three classes)\\n    :Number of Attributes: 4 numeric, predictive attributes and the class\\n    :Attribute Information:\\n        - sepal length in cm\\n        - sepal width in cm\\n        - petal length in cm\\n        - petal width in cm\\n        - class:\\n                - Iris-Setosa\\n                - Iris-Versicolour\\n                - Iris-Virginica\\n                \\n    :Summary Statistics:\\n\\n    ============== ==== ==== ======= ===== ====================\\n                    Min  Max   Mean    SD   Class Correlation\\n    ============== ==== ==== ======= ===== ====================\\n    sepal length:   4.3  7.9   5.84   0.83    0.7826\\n    sepal width:    2.0  4.4   3.05   0.43   -0.4194\\n    petal length:   1.0  6.9   3.76   1.76    0.9490  (high!)\\n    petal width:    0.1  2.5   1.20   0.76    0.9565  (high!)\\n    ============== ==== ==== ======= ===== ====================\\n\\n    :Missing Attribute Values: None\\n    :Class Distribution: 33.3% for each of 3 classes.\\n    :Creator: R.A. Fisher\\n    :Donor: Michael Marshall (MARSHALL%PLU@io.arc.nasa.gov)\\n    :Date: July, 1988\\n\\nThe famous Iris database, first used by Sir R.A. Fisher. The dataset is taken\\nfrom Fisher\\'s paper. Note that it\\'s the same as in R, but not as in the UCI\\nMachine Learning Repository, which has two wrong data points.\\n\\nThis is perhaps the best known database to be found in the\\npattern recognition literature.  Fisher\\'s paper is a classic in the field and\\nis referenced frequently to this day.  (See Duda & Hart, for example.)  The\\ndata set contains 3 classes of 50 instances each, where each class refers to a\\ntype of iris plant.  One class is linearly separable from the other 2; the\\nlatter are NOT linearly separable from each other.\\n\\n.. topic:: References\\n\\n   - Fisher, R.A. \"The use of multiple measurements in taxonomic problems\"\\n     Annual Eugenics, 7, Part II, 179-188 (1936); also in \"Contributions to\\n     Mathematical Statistics\" (John Wiley, NY, 1950).\\n   - Duda, R.O., & Hart, P.E. (1973) Pattern Classification and Scene Analysis.\\n     (Q327.D83) John Wiley & Sons.  ISBN 0-471-22361-1.  See page 218.\\n   - Dasarathy, B.V. (1980) \"Nosing Around the Neighborhood: A New System\\n     Structure and Classification Rule for Recognition in Partially Exposed\\n     Environments\".  IEEE Transactions on Pattern Analysis and Machine\\n     Intelligence, Vol. PAMI-2, No. 1, 67-71.\\n   - Gates, G.W. (1972) \"The Reduced Nearest Neighbor Rule\".  IEEE Transactions\\n     on Information Theory, May 1972, 431-433.\\n   - See also: 1988 MLC Proceedings, 54-64.  Cheeseman et al\"s AUTOCLASS II\\n     conceptual clustering system finds 3 classes in the data.\\n   - Many, many more ...', 'feature_names': ['sepal length (cm)', 'sepal width (cm)', 'petal length (cm)', 'petal width (cm)'], 'filename': 'iris.csv', 'data_module': 'sklearn.datasets.data'}\n"
          ]
        }
      ]
    },
    {
      "cell_type": "code",
      "metadata": {
        "id": "v0TpMxGZB8_b",
        "colab": {
          "base_uri": "https://localhost:8080/"
        },
        "outputId": "836d695a-2f66-4337-b5f1-4bef38c7bc73"
      },
      "source": [
        "# labelling a target\n",
        "x = data.data\n",
        "y = data.target\n",
        "z = data.target_names\n",
        "print(data.feature_names)\n",
        "print(x[0])"
      ],
      "execution_count": 46,
      "outputs": [
        {
          "output_type": "stream",
          "name": "stdout",
          "text": [
            "['sepal length (cm)', 'sepal width (cm)', 'petal length (cm)', 'petal width (cm)']\n",
            "[5.1 3.5 1.4 0.2]\n"
          ]
        }
      ]
    },
    {
      "cell_type": "markdown",
      "source": [
        "## 3. Splitting Data"
      ],
      "metadata": {
        "id": "-ygLHlx_Mil1"
      }
    },
    {
      "cell_type": "code",
      "metadata": {
        "id": "ipzOyLxqCX9V"
      },
      "source": [
        "# Split Dataset\n",
        "from sklearn.model_selection import train_test_split\n",
        "x_train, x_test,  y_train, y_test = train_test_split(x, y, test_size=50)"
      ],
      "execution_count": 28,
      "outputs": []
    },
    {
      "cell_type": "code",
      "metadata": {
        "id": "ZC-blFtsC6wM",
        "colab": {
          "base_uri": "https://localhost:8080/"
        },
        "outputId": "44459677-8793-4c36-d36a-8772a45a768b"
      },
      "source": [
        "# Data Shape\n",
        "print(x_train.shape)\n",
        "print(x_test.shape)"
      ],
      "execution_count": 47,
      "outputs": [
        {
          "output_type": "stream",
          "name": "stdout",
          "text": [
            "(100, 4)\n",
            "(50, 4)\n"
          ]
        }
      ]
    },
    {
      "cell_type": "markdown",
      "source": [
        "## 4. Modeling"
      ],
      "metadata": {
        "id": "PL8CnEFgMnOs"
      }
    },
    {
      "cell_type": "code",
      "metadata": {
        "id": "xGehdg_ZFpg7"
      },
      "source": [
        "# Building the Model\n",
        "model= Sequential()\n",
        "\n",
        "# specify neuron in first hidden layer = 100\n",
        "model.add(Dense(100,input_shape=(4,), activation=\"relu\"))\n",
        "\n",
        "# the output should be categorized to be 3 classes \n",
        "model.add(Dense(3, activation='softmax'))"
      ],
      "execution_count": 48,
      "outputs": []
    },
    {
      "cell_type": "code",
      "metadata": {
        "id": "MpIxydu2F_mi"
      },
      "source": [
        "# Compile the Model\n",
        "model.compile(optimizer= \"rmsprop\", loss=\"sparse_categorical_crossentropy\", metrics=[\"accuracy\"])"
      ],
      "execution_count": 49,
      "outputs": []
    },
    {
      "cell_type": "code",
      "metadata": {
        "id": "fONHKwVgGDbC",
        "colab": {
          "base_uri": "https://localhost:8080/"
        },
        "outputId": "d76b7dfb-24a8-40e6-e448-55532cefd3fb"
      },
      "source": [
        "# Fit the Model\n",
        "model.fit(x_train,y_train, epochs=200 , batch_size = 5 , validation_split = 0.2)"
      ],
      "execution_count": 50,
      "outputs": [
        {
          "output_type": "stream",
          "name": "stdout",
          "text": [
            "Epoch 1/200\n",
            "16/16 [==============================] - 1s 15ms/step - loss: 1.0402 - accuracy: 0.4250 - val_loss: 0.9167 - val_accuracy: 0.6000\n",
            "Epoch 2/200\n",
            "16/16 [==============================] - 0s 4ms/step - loss: 0.8266 - accuracy: 0.6625 - val_loss: 0.8194 - val_accuracy: 0.6000\n",
            "Epoch 3/200\n",
            "16/16 [==============================] - 0s 5ms/step - loss: 0.7298 - accuracy: 0.7000 - val_loss: 0.7217 - val_accuracy: 0.6000\n",
            "Epoch 4/200\n",
            "16/16 [==============================] - 0s 5ms/step - loss: 0.6485 - accuracy: 0.7375 - val_loss: 0.7044 - val_accuracy: 0.6000\n",
            "Epoch 5/200\n",
            "16/16 [==============================] - 0s 5ms/step - loss: 0.5911 - accuracy: 0.7000 - val_loss: 0.6212 - val_accuracy: 0.7500\n",
            "Epoch 6/200\n",
            "16/16 [==============================] - 0s 5ms/step - loss: 0.5481 - accuracy: 0.8250 - val_loss: 0.6214 - val_accuracy: 0.6000\n",
            "Epoch 7/200\n",
            "16/16 [==============================] - 0s 6ms/step - loss: 0.5071 - accuracy: 0.7625 - val_loss: 0.6469 - val_accuracy: 0.6000\n",
            "Epoch 8/200\n",
            "16/16 [==============================] - 0s 5ms/step - loss: 0.4860 - accuracy: 0.7125 - val_loss: 0.5419 - val_accuracy: 0.6500\n",
            "Epoch 9/200\n",
            "16/16 [==============================] - 0s 4ms/step - loss: 0.4571 - accuracy: 0.8000 - val_loss: 0.5141 - val_accuracy: 0.7500\n",
            "Epoch 10/200\n",
            "16/16 [==============================] - 0s 5ms/step - loss: 0.4281 - accuracy: 0.8625 - val_loss: 0.4991 - val_accuracy: 0.7000\n",
            "Epoch 11/200\n",
            "16/16 [==============================] - 0s 4ms/step - loss: 0.4159 - accuracy: 0.8250 - val_loss: 0.4740 - val_accuracy: 0.8500\n",
            "Epoch 12/200\n",
            "16/16 [==============================] - 0s 4ms/step - loss: 0.3910 - accuracy: 0.9000 - val_loss: 0.4535 - val_accuracy: 0.9000\n",
            "Epoch 13/200\n",
            "16/16 [==============================] - 0s 4ms/step - loss: 0.3797 - accuracy: 0.8625 - val_loss: 0.4409 - val_accuracy: 0.9000\n",
            "Epoch 14/200\n",
            "16/16 [==============================] - 0s 4ms/step - loss: 0.3690 - accuracy: 0.9125 - val_loss: 0.4533 - val_accuracy: 0.7000\n",
            "Epoch 15/200\n",
            "16/16 [==============================] - 0s 5ms/step - loss: 0.3573 - accuracy: 0.9375 - val_loss: 0.4580 - val_accuracy: 0.7000\n",
            "Epoch 16/200\n",
            "16/16 [==============================] - 0s 4ms/step - loss: 0.3384 - accuracy: 0.8875 - val_loss: 0.4160 - val_accuracy: 0.8500\n",
            "Epoch 17/200\n",
            "16/16 [==============================] - 0s 4ms/step - loss: 0.3345 - accuracy: 0.9375 - val_loss: 0.4117 - val_accuracy: 0.8500\n",
            "Epoch 18/200\n",
            "16/16 [==============================] - 0s 4ms/step - loss: 0.3159 - accuracy: 0.9625 - val_loss: 0.4459 - val_accuracy: 0.7000\n",
            "Epoch 19/200\n",
            "16/16 [==============================] - 0s 5ms/step - loss: 0.3075 - accuracy: 0.9125 - val_loss: 0.3816 - val_accuracy: 0.9000\n",
            "Epoch 20/200\n",
            "16/16 [==============================] - 0s 5ms/step - loss: 0.2963 - accuracy: 0.9750 - val_loss: 0.4113 - val_accuracy: 0.8000\n",
            "Epoch 21/200\n",
            "16/16 [==============================] - 0s 4ms/step - loss: 0.2881 - accuracy: 0.9375 - val_loss: 0.3616 - val_accuracy: 0.8500\n",
            "Epoch 22/200\n",
            "16/16 [==============================] - 0s 6ms/step - loss: 0.2825 - accuracy: 0.9750 - val_loss: 0.3546 - val_accuracy: 0.8500\n",
            "Epoch 23/200\n",
            "16/16 [==============================] - 0s 6ms/step - loss: 0.2675 - accuracy: 0.9875 - val_loss: 0.3577 - val_accuracy: 0.9000\n",
            "Epoch 24/200\n",
            "16/16 [==============================] - 0s 4ms/step - loss: 0.2592 - accuracy: 0.9875 - val_loss: 0.3420 - val_accuracy: 0.8500\n",
            "Epoch 25/200\n",
            "16/16 [==============================] - 0s 5ms/step - loss: 0.2489 - accuracy: 0.9500 - val_loss: 0.4120 - val_accuracy: 0.7000\n",
            "Epoch 26/200\n",
            "16/16 [==============================] - 0s 6ms/step - loss: 0.2430 - accuracy: 0.9750 - val_loss: 0.3444 - val_accuracy: 0.8500\n",
            "Epoch 27/200\n",
            "16/16 [==============================] - 0s 5ms/step - loss: 0.2334 - accuracy: 0.9500 - val_loss: 0.3404 - val_accuracy: 0.8500\n",
            "Epoch 28/200\n",
            "16/16 [==============================] - 0s 4ms/step - loss: 0.2203 - accuracy: 1.0000 - val_loss: 0.3202 - val_accuracy: 0.9000\n",
            "Epoch 29/200\n",
            "16/16 [==============================] - 0s 5ms/step - loss: 0.2120 - accuracy: 1.0000 - val_loss: 0.3074 - val_accuracy: 0.8500\n",
            "Epoch 30/200\n",
            "16/16 [==============================] - 0s 5ms/step - loss: 0.2083 - accuracy: 0.9750 - val_loss: 0.3163 - val_accuracy: 0.9000\n",
            "Epoch 31/200\n",
            "16/16 [==============================] - 0s 4ms/step - loss: 0.1945 - accuracy: 0.9625 - val_loss: 0.2994 - val_accuracy: 0.9000\n",
            "Epoch 32/200\n",
            "16/16 [==============================] - 0s 4ms/step - loss: 0.2027 - accuracy: 0.9625 - val_loss: 0.3053 - val_accuracy: 0.9000\n",
            "Epoch 33/200\n",
            "16/16 [==============================] - 0s 5ms/step - loss: 0.1847 - accuracy: 0.9875 - val_loss: 0.3508 - val_accuracy: 0.8500\n",
            "Epoch 34/200\n",
            "16/16 [==============================] - 0s 4ms/step - loss: 0.1759 - accuracy: 1.0000 - val_loss: 0.3080 - val_accuracy: 0.8500\n",
            "Epoch 35/200\n",
            "16/16 [==============================] - 0s 4ms/step - loss: 0.1706 - accuracy: 1.0000 - val_loss: 0.4054 - val_accuracy: 0.7500\n",
            "Epoch 36/200\n",
            "16/16 [==============================] - 0s 4ms/step - loss: 0.1743 - accuracy: 0.9500 - val_loss: 0.2979 - val_accuracy: 0.9000\n",
            "Epoch 37/200\n",
            "16/16 [==============================] - 0s 4ms/step - loss: 0.1597 - accuracy: 0.9875 - val_loss: 0.2976 - val_accuracy: 0.8500\n",
            "Epoch 38/200\n",
            "16/16 [==============================] - 0s 5ms/step - loss: 0.1536 - accuracy: 0.9875 - val_loss: 0.2671 - val_accuracy: 0.8500\n",
            "Epoch 39/200\n",
            "16/16 [==============================] - 0s 5ms/step - loss: 0.1505 - accuracy: 0.9750 - val_loss: 0.2778 - val_accuracy: 0.9000\n",
            "Epoch 40/200\n",
            "16/16 [==============================] - 0s 4ms/step - loss: 0.1430 - accuracy: 0.9875 - val_loss: 0.3430 - val_accuracy: 0.8500\n",
            "Epoch 41/200\n",
            "16/16 [==============================] - 0s 5ms/step - loss: 0.1375 - accuracy: 1.0000 - val_loss: 0.2800 - val_accuracy: 0.9000\n",
            "Epoch 42/200\n",
            "16/16 [==============================] - 0s 5ms/step - loss: 0.1416 - accuracy: 1.0000 - val_loss: 0.3049 - val_accuracy: 0.8500\n",
            "Epoch 43/200\n",
            "16/16 [==============================] - 0s 5ms/step - loss: 0.1346 - accuracy: 1.0000 - val_loss: 0.2487 - val_accuracy: 0.8000\n",
            "Epoch 44/200\n",
            "16/16 [==============================] - 0s 4ms/step - loss: 0.1297 - accuracy: 1.0000 - val_loss: 0.2546 - val_accuracy: 0.9000\n",
            "Epoch 45/200\n",
            "16/16 [==============================] - 0s 4ms/step - loss: 0.1235 - accuracy: 0.9875 - val_loss: 0.2440 - val_accuracy: 0.8500\n",
            "Epoch 46/200\n",
            "16/16 [==============================] - 0s 4ms/step - loss: 0.1256 - accuracy: 0.9875 - val_loss: 0.2452 - val_accuracy: 0.9000\n",
            "Epoch 47/200\n",
            "16/16 [==============================] - 0s 5ms/step - loss: 0.1154 - accuracy: 1.0000 - val_loss: 0.2548 - val_accuracy: 0.9000\n",
            "Epoch 48/200\n",
            "16/16 [==============================] - 0s 4ms/step - loss: 0.1205 - accuracy: 0.9875 - val_loss: 0.2528 - val_accuracy: 0.9000\n",
            "Epoch 49/200\n",
            "16/16 [==============================] - 0s 5ms/step - loss: 0.1021 - accuracy: 1.0000 - val_loss: 0.2382 - val_accuracy: 0.8500\n",
            "Epoch 50/200\n",
            "16/16 [==============================] - 0s 5ms/step - loss: 0.1067 - accuracy: 0.9875 - val_loss: 0.2319 - val_accuracy: 0.8000\n",
            "Epoch 51/200\n",
            "16/16 [==============================] - 0s 4ms/step - loss: 0.1063 - accuracy: 0.9875 - val_loss: 0.2349 - val_accuracy: 0.9000\n",
            "Epoch 52/200\n",
            "16/16 [==============================] - 0s 5ms/step - loss: 0.1012 - accuracy: 1.0000 - val_loss: 0.2379 - val_accuracy: 0.9000\n",
            "Epoch 53/200\n",
            "16/16 [==============================] - 0s 5ms/step - loss: 0.0989 - accuracy: 1.0000 - val_loss: 0.2704 - val_accuracy: 0.8500\n",
            "Epoch 54/200\n",
            "16/16 [==============================] - 0s 4ms/step - loss: 0.0931 - accuracy: 1.0000 - val_loss: 0.2442 - val_accuracy: 0.9000\n",
            "Epoch 55/200\n",
            "16/16 [==============================] - 0s 5ms/step - loss: 0.0914 - accuracy: 0.9875 - val_loss: 0.2520 - val_accuracy: 0.9000\n",
            "Epoch 56/200\n",
            "16/16 [==============================] - 0s 4ms/step - loss: 0.0914 - accuracy: 1.0000 - val_loss: 0.2544 - val_accuracy: 0.9000\n",
            "Epoch 57/200\n",
            "16/16 [==============================] - 0s 4ms/step - loss: 0.0807 - accuracy: 1.0000 - val_loss: 0.3130 - val_accuracy: 0.8500\n",
            "Epoch 58/200\n",
            "16/16 [==============================] - 0s 4ms/step - loss: 0.0957 - accuracy: 1.0000 - val_loss: 0.2452 - val_accuracy: 0.9000\n",
            "Epoch 59/200\n",
            "16/16 [==============================] - 0s 4ms/step - loss: 0.0846 - accuracy: 1.0000 - val_loss: 0.3129 - val_accuracy: 0.8500\n",
            "Epoch 60/200\n",
            "16/16 [==============================] - 0s 4ms/step - loss: 0.0800 - accuracy: 1.0000 - val_loss: 0.2660 - val_accuracy: 0.8500\n",
            "Epoch 61/200\n",
            "16/16 [==============================] - 0s 4ms/step - loss: 0.0816 - accuracy: 1.0000 - val_loss: 0.2217 - val_accuracy: 0.9000\n",
            "Epoch 62/200\n",
            "16/16 [==============================] - 0s 5ms/step - loss: 0.0802 - accuracy: 0.9875 - val_loss: 0.2603 - val_accuracy: 0.8500\n",
            "Epoch 63/200\n",
            "16/16 [==============================] - 0s 4ms/step - loss: 0.0688 - accuracy: 1.0000 - val_loss: 0.2125 - val_accuracy: 0.8500\n",
            "Epoch 64/200\n",
            "16/16 [==============================] - 0s 5ms/step - loss: 0.0750 - accuracy: 0.9875 - val_loss: 0.2132 - val_accuracy: 0.9000\n",
            "Epoch 65/200\n",
            "16/16 [==============================] - 0s 5ms/step - loss: 0.0715 - accuracy: 0.9875 - val_loss: 0.2336 - val_accuracy: 0.9000\n",
            "Epoch 66/200\n",
            "16/16 [==============================] - 0s 5ms/step - loss: 0.0700 - accuracy: 0.9875 - val_loss: 0.2152 - val_accuracy: 0.9000\n",
            "Epoch 67/200\n",
            "16/16 [==============================] - 0s 4ms/step - loss: 0.0690 - accuracy: 1.0000 - val_loss: 0.2175 - val_accuracy: 0.9000\n",
            "Epoch 68/200\n",
            "16/16 [==============================] - 0s 4ms/step - loss: 0.0699 - accuracy: 0.9875 - val_loss: 0.2548 - val_accuracy: 0.8500\n",
            "Epoch 69/200\n",
            "16/16 [==============================] - 0s 5ms/step - loss: 0.0683 - accuracy: 1.0000 - val_loss: 0.2166 - val_accuracy: 0.9000\n",
            "Epoch 70/200\n",
            "16/16 [==============================] - 0s 5ms/step - loss: 0.0563 - accuracy: 0.9875 - val_loss: 0.2071 - val_accuracy: 0.8000\n",
            "Epoch 71/200\n",
            "16/16 [==============================] - 0s 4ms/step - loss: 0.0585 - accuracy: 1.0000 - val_loss: 0.3203 - val_accuracy: 0.8500\n",
            "Epoch 72/200\n",
            "16/16 [==============================] - 0s 5ms/step - loss: 0.0636 - accuracy: 1.0000 - val_loss: 0.2818 - val_accuracy: 0.8500\n",
            "Epoch 73/200\n",
            "16/16 [==============================] - 0s 6ms/step - loss: 0.0614 - accuracy: 1.0000 - val_loss: 0.2084 - val_accuracy: 0.9000\n",
            "Epoch 74/200\n",
            "16/16 [==============================] - 0s 4ms/step - loss: 0.0573 - accuracy: 1.0000 - val_loss: 0.2535 - val_accuracy: 0.8500\n",
            "Epoch 75/200\n",
            "16/16 [==============================] - 0s 5ms/step - loss: 0.0554 - accuracy: 1.0000 - val_loss: 0.2117 - val_accuracy: 0.9000\n",
            "Epoch 76/200\n",
            "16/16 [==============================] - 0s 5ms/step - loss: 0.0599 - accuracy: 0.9875 - val_loss: 0.3157 - val_accuracy: 0.8500\n",
            "Epoch 77/200\n",
            "16/16 [==============================] - 0s 5ms/step - loss: 0.0562 - accuracy: 0.9875 - val_loss: 0.2062 - val_accuracy: 0.9000\n",
            "Epoch 78/200\n",
            "16/16 [==============================] - 0s 5ms/step - loss: 0.0543 - accuracy: 1.0000 - val_loss: 0.2514 - val_accuracy: 0.8500\n",
            "Epoch 79/200\n",
            "16/16 [==============================] - 0s 4ms/step - loss: 0.0574 - accuracy: 1.0000 - val_loss: 0.2042 - val_accuracy: 0.9000\n",
            "Epoch 80/200\n",
            "16/16 [==============================] - 0s 4ms/step - loss: 0.0533 - accuracy: 1.0000 - val_loss: 0.2013 - val_accuracy: 0.9000\n",
            "Epoch 81/200\n",
            "16/16 [==============================] - 0s 4ms/step - loss: 0.0513 - accuracy: 1.0000 - val_loss: 0.2092 - val_accuracy: 0.9000\n",
            "Epoch 82/200\n",
            "16/16 [==============================] - 0s 4ms/step - loss: 0.0550 - accuracy: 1.0000 - val_loss: 0.2818 - val_accuracy: 0.8500\n",
            "Epoch 83/200\n",
            "16/16 [==============================] - 0s 4ms/step - loss: 0.0469 - accuracy: 0.9875 - val_loss: 0.2704 - val_accuracy: 0.8500\n",
            "Epoch 84/200\n",
            "16/16 [==============================] - 0s 5ms/step - loss: 0.0547 - accuracy: 1.0000 - val_loss: 0.2815 - val_accuracy: 0.8500\n",
            "Epoch 85/200\n",
            "16/16 [==============================] - 0s 4ms/step - loss: 0.0459 - accuracy: 1.0000 - val_loss: 0.2020 - val_accuracy: 0.9000\n",
            "Epoch 86/200\n",
            "16/16 [==============================] - 0s 4ms/step - loss: 0.0441 - accuracy: 1.0000 - val_loss: 0.2023 - val_accuracy: 0.9000\n",
            "Epoch 87/200\n",
            "16/16 [==============================] - 0s 4ms/step - loss: 0.0419 - accuracy: 1.0000 - val_loss: 0.2270 - val_accuracy: 0.9000\n",
            "Epoch 88/200\n",
            "16/16 [==============================] - 0s 5ms/step - loss: 0.0504 - accuracy: 1.0000 - val_loss: 0.2310 - val_accuracy: 0.9000\n",
            "Epoch 89/200\n",
            "16/16 [==============================] - 0s 4ms/step - loss: 0.0452 - accuracy: 1.0000 - val_loss: 0.2500 - val_accuracy: 0.9000\n",
            "Epoch 90/200\n",
            "16/16 [==============================] - 0s 4ms/step - loss: 0.0460 - accuracy: 1.0000 - val_loss: 0.2065 - val_accuracy: 0.9000\n",
            "Epoch 91/200\n",
            "16/16 [==============================] - 0s 5ms/step - loss: 0.0435 - accuracy: 1.0000 - val_loss: 0.3152 - val_accuracy: 0.8500\n",
            "Epoch 92/200\n",
            "16/16 [==============================] - 0s 4ms/step - loss: 0.0456 - accuracy: 1.0000 - val_loss: 0.2912 - val_accuracy: 0.8500\n",
            "Epoch 93/200\n",
            "16/16 [==============================] - 0s 4ms/step - loss: 0.0376 - accuracy: 1.0000 - val_loss: 0.2237 - val_accuracy: 0.9000\n",
            "Epoch 94/200\n",
            "16/16 [==============================] - 0s 4ms/step - loss: 0.0418 - accuracy: 1.0000 - val_loss: 0.2583 - val_accuracy: 0.8500\n",
            "Epoch 95/200\n",
            "16/16 [==============================] - 0s 4ms/step - loss: 0.0368 - accuracy: 1.0000 - val_loss: 0.3300 - val_accuracy: 0.8500\n",
            "Epoch 96/200\n",
            "16/16 [==============================] - 0s 4ms/step - loss: 0.0453 - accuracy: 1.0000 - val_loss: 0.2279 - val_accuracy: 0.9000\n",
            "Epoch 97/200\n",
            "16/16 [==============================] - 0s 5ms/step - loss: 0.0395 - accuracy: 1.0000 - val_loss: 0.3662 - val_accuracy: 0.8500\n",
            "Epoch 98/200\n",
            "16/16 [==============================] - 0s 4ms/step - loss: 0.0404 - accuracy: 1.0000 - val_loss: 0.2364 - val_accuracy: 0.9000\n",
            "Epoch 99/200\n",
            "16/16 [==============================] - 0s 4ms/step - loss: 0.0373 - accuracy: 1.0000 - val_loss: 0.2042 - val_accuracy: 0.9000\n",
            "Epoch 100/200\n",
            "16/16 [==============================] - 0s 4ms/step - loss: 0.0411 - accuracy: 1.0000 - val_loss: 0.2598 - val_accuracy: 0.8500\n",
            "Epoch 101/200\n",
            "16/16 [==============================] - 0s 5ms/step - loss: 0.0307 - accuracy: 1.0000 - val_loss: 0.2641 - val_accuracy: 0.8500\n",
            "Epoch 102/200\n",
            "16/16 [==============================] - 0s 5ms/step - loss: 0.0368 - accuracy: 1.0000 - val_loss: 0.2404 - val_accuracy: 0.9000\n",
            "Epoch 103/200\n",
            "16/16 [==============================] - 0s 5ms/step - loss: 0.0389 - accuracy: 1.0000 - val_loss: 0.2287 - val_accuracy: 0.9000\n",
            "Epoch 104/200\n",
            "16/16 [==============================] - 0s 4ms/step - loss: 0.0386 - accuracy: 1.0000 - val_loss: 0.2211 - val_accuracy: 0.9000\n",
            "Epoch 105/200\n",
            "16/16 [==============================] - 0s 5ms/step - loss: 0.0322 - accuracy: 1.0000 - val_loss: 0.2760 - val_accuracy: 0.8500\n",
            "Epoch 106/200\n",
            "16/16 [==============================] - 0s 5ms/step - loss: 0.0403 - accuracy: 1.0000 - val_loss: 0.3305 - val_accuracy: 0.8500\n",
            "Epoch 107/200\n",
            "16/16 [==============================] - 0s 4ms/step - loss: 0.0312 - accuracy: 1.0000 - val_loss: 0.2179 - val_accuracy: 0.9000\n",
            "Epoch 108/200\n",
            "16/16 [==============================] - 0s 5ms/step - loss: 0.0363 - accuracy: 1.0000 - val_loss: 0.3367 - val_accuracy: 0.8500\n",
            "Epoch 109/200\n",
            "16/16 [==============================] - 0s 5ms/step - loss: 0.0387 - accuracy: 1.0000 - val_loss: 0.2226 - val_accuracy: 0.9000\n",
            "Epoch 110/200\n",
            "16/16 [==============================] - 0s 4ms/step - loss: 0.0376 - accuracy: 1.0000 - val_loss: 0.2378 - val_accuracy: 0.9000\n",
            "Epoch 111/200\n",
            "16/16 [==============================] - 0s 4ms/step - loss: 0.0314 - accuracy: 1.0000 - val_loss: 0.3394 - val_accuracy: 0.8500\n",
            "Epoch 112/200\n",
            "16/16 [==============================] - 0s 4ms/step - loss: 0.0342 - accuracy: 1.0000 - val_loss: 0.2365 - val_accuracy: 0.9000\n",
            "Epoch 113/200\n",
            "16/16 [==============================] - 0s 5ms/step - loss: 0.0306 - accuracy: 1.0000 - val_loss: 0.2201 - val_accuracy: 0.9000\n",
            "Epoch 114/200\n",
            "16/16 [==============================] - 0s 4ms/step - loss: 0.0290 - accuracy: 1.0000 - val_loss: 0.3623 - val_accuracy: 0.8500\n",
            "Epoch 115/200\n",
            "16/16 [==============================] - 0s 5ms/step - loss: 0.0285 - accuracy: 1.0000 - val_loss: 0.2051 - val_accuracy: 0.9000\n",
            "Epoch 116/200\n",
            "16/16 [==============================] - 0s 7ms/step - loss: 0.0305 - accuracy: 1.0000 - val_loss: 0.2853 - val_accuracy: 0.8500\n",
            "Epoch 117/200\n",
            "16/16 [==============================] - 0s 6ms/step - loss: 0.0263 - accuracy: 1.0000 - val_loss: 0.2642 - val_accuracy: 0.9000\n",
            "Epoch 118/200\n",
            "16/16 [==============================] - 0s 6ms/step - loss: 0.0309 - accuracy: 1.0000 - val_loss: 0.2131 - val_accuracy: 0.9000\n",
            "Epoch 119/200\n",
            "16/16 [==============================] - 0s 6ms/step - loss: 0.0318 - accuracy: 1.0000 - val_loss: 0.2333 - val_accuracy: 0.9000\n",
            "Epoch 120/200\n",
            "16/16 [==============================] - 0s 7ms/step - loss: 0.0293 - accuracy: 1.0000 - val_loss: 0.2167 - val_accuracy: 0.9000\n",
            "Epoch 121/200\n",
            "16/16 [==============================] - 0s 5ms/step - loss: 0.0305 - accuracy: 1.0000 - val_loss: 0.2895 - val_accuracy: 0.8500\n",
            "Epoch 122/200\n",
            "16/16 [==============================] - 0s 6ms/step - loss: 0.0314 - accuracy: 1.0000 - val_loss: 0.3058 - val_accuracy: 0.8500\n",
            "Epoch 123/200\n",
            "16/16 [==============================] - 0s 6ms/step - loss: 0.0263 - accuracy: 1.0000 - val_loss: 0.2497 - val_accuracy: 0.9000\n",
            "Epoch 124/200\n",
            "16/16 [==============================] - 0s 5ms/step - loss: 0.0268 - accuracy: 1.0000 - val_loss: 0.2255 - val_accuracy: 0.9000\n",
            "Epoch 125/200\n",
            "16/16 [==============================] - 0s 6ms/step - loss: 0.0262 - accuracy: 1.0000 - val_loss: 0.2637 - val_accuracy: 0.9000\n",
            "Epoch 126/200\n",
            "16/16 [==============================] - 0s 6ms/step - loss: 0.0283 - accuracy: 0.9875 - val_loss: 0.2816 - val_accuracy: 0.8500\n",
            "Epoch 127/200\n",
            "16/16 [==============================] - 0s 6ms/step - loss: 0.0266 - accuracy: 1.0000 - val_loss: 0.2685 - val_accuracy: 0.9000\n",
            "Epoch 128/200\n",
            "16/16 [==============================] - 0s 6ms/step - loss: 0.0250 - accuracy: 1.0000 - val_loss: 0.3451 - val_accuracy: 0.8500\n",
            "Epoch 129/200\n",
            "16/16 [==============================] - 0s 6ms/step - loss: 0.0274 - accuracy: 1.0000 - val_loss: 0.3139 - val_accuracy: 0.8500\n",
            "Epoch 130/200\n",
            "16/16 [==============================] - 0s 8ms/step - loss: 0.0259 - accuracy: 1.0000 - val_loss: 0.3363 - val_accuracy: 0.8500\n",
            "Epoch 131/200\n",
            "16/16 [==============================] - 0s 6ms/step - loss: 0.0316 - accuracy: 1.0000 - val_loss: 0.3138 - val_accuracy: 0.8500\n",
            "Epoch 132/200\n",
            "16/16 [==============================] - 0s 7ms/step - loss: 0.0205 - accuracy: 1.0000 - val_loss: 0.2242 - val_accuracy: 0.9000\n",
            "Epoch 133/200\n",
            "16/16 [==============================] - 0s 5ms/step - loss: 0.0232 - accuracy: 1.0000 - val_loss: 0.2045 - val_accuracy: 0.9000\n",
            "Epoch 134/200\n",
            "16/16 [==============================] - 0s 5ms/step - loss: 0.0216 - accuracy: 1.0000 - val_loss: 0.4344 - val_accuracy: 0.8500\n",
            "Epoch 135/200\n",
            "16/16 [==============================] - 0s 7ms/step - loss: 0.0264 - accuracy: 1.0000 - val_loss: 0.3027 - val_accuracy: 0.8500\n",
            "Epoch 136/200\n",
            "16/16 [==============================] - 0s 6ms/step - loss: 0.0244 - accuracy: 1.0000 - val_loss: 0.3607 - val_accuracy: 0.8500\n",
            "Epoch 137/200\n",
            "16/16 [==============================] - 0s 6ms/step - loss: 0.0255 - accuracy: 1.0000 - val_loss: 0.2994 - val_accuracy: 0.8500\n",
            "Epoch 138/200\n",
            "16/16 [==============================] - 0s 6ms/step - loss: 0.0198 - accuracy: 1.0000 - val_loss: 0.2386 - val_accuracy: 0.9000\n",
            "Epoch 139/200\n",
            "16/16 [==============================] - 0s 7ms/step - loss: 0.0230 - accuracy: 1.0000 - val_loss: 0.3572 - val_accuracy: 0.8500\n",
            "Epoch 140/200\n",
            "16/16 [==============================] - 0s 6ms/step - loss: 0.0253 - accuracy: 1.0000 - val_loss: 0.3289 - val_accuracy: 0.8500\n",
            "Epoch 141/200\n",
            "16/16 [==============================] - 0s 5ms/step - loss: 0.0226 - accuracy: 1.0000 - val_loss: 0.2952 - val_accuracy: 0.8500\n",
            "Epoch 142/200\n",
            "16/16 [==============================] - 0s 6ms/step - loss: 0.0209 - accuracy: 1.0000 - val_loss: 0.2135 - val_accuracy: 0.9000\n",
            "Epoch 143/200\n",
            "16/16 [==============================] - 0s 5ms/step - loss: 0.0215 - accuracy: 1.0000 - val_loss: 0.2346 - val_accuracy: 0.9000\n",
            "Epoch 144/200\n",
            "16/16 [==============================] - 0s 6ms/step - loss: 0.0232 - accuracy: 1.0000 - val_loss: 0.2588 - val_accuracy: 0.9000\n",
            "Epoch 145/200\n",
            "16/16 [==============================] - 0s 6ms/step - loss: 0.0195 - accuracy: 1.0000 - val_loss: 0.2905 - val_accuracy: 0.8500\n",
            "Epoch 146/200\n",
            "16/16 [==============================] - 0s 6ms/step - loss: 0.0190 - accuracy: 1.0000 - val_loss: 0.2704 - val_accuracy: 0.9000\n",
            "Epoch 147/200\n",
            "16/16 [==============================] - 0s 5ms/step - loss: 0.0201 - accuracy: 1.0000 - val_loss: 0.2181 - val_accuracy: 0.9000\n",
            "Epoch 148/200\n",
            "16/16 [==============================] - 0s 4ms/step - loss: 0.0203 - accuracy: 1.0000 - val_loss: 0.2241 - val_accuracy: 0.9000\n",
            "Epoch 149/200\n",
            "16/16 [==============================] - 0s 5ms/step - loss: 0.0203 - accuracy: 1.0000 - val_loss: 0.3220 - val_accuracy: 0.8500\n",
            "Epoch 150/200\n",
            "16/16 [==============================] - 0s 4ms/step - loss: 0.0184 - accuracy: 1.0000 - val_loss: 0.2445 - val_accuracy: 0.9000\n",
            "Epoch 151/200\n",
            "16/16 [==============================] - 0s 4ms/step - loss: 0.0205 - accuracy: 1.0000 - val_loss: 0.2276 - val_accuracy: 0.9000\n",
            "Epoch 152/200\n",
            "16/16 [==============================] - 0s 5ms/step - loss: 0.0225 - accuracy: 0.9875 - val_loss: 0.3783 - val_accuracy: 0.8500\n",
            "Epoch 153/200\n",
            "16/16 [==============================] - 0s 4ms/step - loss: 0.0209 - accuracy: 1.0000 - val_loss: 0.3820 - val_accuracy: 0.8500\n",
            "Epoch 154/200\n",
            "16/16 [==============================] - 0s 5ms/step - loss: 0.0171 - accuracy: 1.0000 - val_loss: 0.4337 - val_accuracy: 0.8500\n",
            "Epoch 155/200\n",
            "16/16 [==============================] - 0s 4ms/step - loss: 0.0212 - accuracy: 1.0000 - val_loss: 0.2700 - val_accuracy: 0.9000\n",
            "Epoch 156/200\n",
            "16/16 [==============================] - 0s 4ms/step - loss: 0.0183 - accuracy: 1.0000 - val_loss: 0.3359 - val_accuracy: 0.8500\n",
            "Epoch 157/200\n",
            "16/16 [==============================] - 0s 5ms/step - loss: 0.0160 - accuracy: 1.0000 - val_loss: 0.3949 - val_accuracy: 0.8500\n",
            "Epoch 158/200\n",
            "16/16 [==============================] - 0s 5ms/step - loss: 0.0163 - accuracy: 1.0000 - val_loss: 0.2683 - val_accuracy: 0.9000\n",
            "Epoch 159/200\n",
            "16/16 [==============================] - 0s 4ms/step - loss: 0.0213 - accuracy: 0.9875 - val_loss: 0.2926 - val_accuracy: 0.9000\n",
            "Epoch 160/200\n",
            "16/16 [==============================] - 0s 5ms/step - loss: 0.0207 - accuracy: 1.0000 - val_loss: 0.3200 - val_accuracy: 0.8500\n",
            "Epoch 161/200\n",
            "16/16 [==============================] - 0s 4ms/step - loss: 0.0155 - accuracy: 1.0000 - val_loss: 0.3333 - val_accuracy: 0.8500\n",
            "Epoch 162/200\n",
            "16/16 [==============================] - 0s 4ms/step - loss: 0.0177 - accuracy: 1.0000 - val_loss: 0.3962 - val_accuracy: 0.8500\n",
            "Epoch 163/200\n",
            "16/16 [==============================] - 0s 4ms/step - loss: 0.0182 - accuracy: 1.0000 - val_loss: 0.2329 - val_accuracy: 0.9000\n",
            "Epoch 164/200\n",
            "16/16 [==============================] - 0s 4ms/step - loss: 0.0183 - accuracy: 1.0000 - val_loss: 0.3492 - val_accuracy: 0.8500\n",
            "Epoch 165/200\n",
            "16/16 [==============================] - 0s 4ms/step - loss: 0.0174 - accuracy: 1.0000 - val_loss: 0.2514 - val_accuracy: 0.9000\n",
            "Epoch 166/200\n",
            "16/16 [==============================] - 0s 5ms/step - loss: 0.0201 - accuracy: 1.0000 - val_loss: 0.3562 - val_accuracy: 0.8500\n",
            "Epoch 167/200\n",
            "16/16 [==============================] - 0s 4ms/step - loss: 0.0161 - accuracy: 1.0000 - val_loss: 0.3054 - val_accuracy: 0.9000\n",
            "Epoch 168/200\n",
            "16/16 [==============================] - 0s 4ms/step - loss: 0.0143 - accuracy: 1.0000 - val_loss: 0.2210 - val_accuracy: 0.9000\n",
            "Epoch 169/200\n",
            "16/16 [==============================] - 0s 4ms/step - loss: 0.0145 - accuracy: 1.0000 - val_loss: 0.4947 - val_accuracy: 0.8500\n",
            "Epoch 170/200\n",
            "16/16 [==============================] - 0s 5ms/step - loss: 0.0193 - accuracy: 1.0000 - val_loss: 0.3348 - val_accuracy: 0.8500\n",
            "Epoch 171/200\n",
            "16/16 [==============================] - 0s 5ms/step - loss: 0.0150 - accuracy: 1.0000 - val_loss: 0.4878 - val_accuracy: 0.8500\n",
            "Epoch 172/200\n",
            "16/16 [==============================] - 0s 5ms/step - loss: 0.0163 - accuracy: 1.0000 - val_loss: 0.3452 - val_accuracy: 0.8500\n",
            "Epoch 173/200\n",
            "16/16 [==============================] - 0s 5ms/step - loss: 0.0166 - accuracy: 1.0000 - val_loss: 0.4848 - val_accuracy: 0.8500\n",
            "Epoch 174/200\n",
            "16/16 [==============================] - 0s 5ms/step - loss: 0.0146 - accuracy: 1.0000 - val_loss: 0.4723 - val_accuracy: 0.8500\n",
            "Epoch 175/200\n",
            "16/16 [==============================] - 0s 5ms/step - loss: 0.0133 - accuracy: 1.0000 - val_loss: 0.5373 - val_accuracy: 0.8500\n",
            "Epoch 176/200\n",
            "16/16 [==============================] - 0s 5ms/step - loss: 0.0125 - accuracy: 1.0000 - val_loss: 0.2254 - val_accuracy: 0.9000\n",
            "Epoch 177/200\n",
            "16/16 [==============================] - 0s 4ms/step - loss: 0.0175 - accuracy: 1.0000 - val_loss: 0.3176 - val_accuracy: 0.8500\n",
            "Epoch 178/200\n",
            "16/16 [==============================] - 0s 8ms/step - loss: 0.0152 - accuracy: 1.0000 - val_loss: 0.4058 - val_accuracy: 0.8500\n",
            "Epoch 179/200\n",
            "16/16 [==============================] - 0s 5ms/step - loss: 0.0177 - accuracy: 1.0000 - val_loss: 0.2986 - val_accuracy: 0.9000\n",
            "Epoch 180/200\n",
            "16/16 [==============================] - 0s 4ms/step - loss: 0.0123 - accuracy: 1.0000 - val_loss: 0.2709 - val_accuracy: 0.9000\n",
            "Epoch 181/200\n",
            "16/16 [==============================] - 0s 5ms/step - loss: 0.0132 - accuracy: 1.0000 - val_loss: 0.2995 - val_accuracy: 0.9000\n",
            "Epoch 182/200\n",
            "16/16 [==============================] - 0s 4ms/step - loss: 0.0133 - accuracy: 1.0000 - val_loss: 0.2634 - val_accuracy: 0.9000\n",
            "Epoch 183/200\n",
            "16/16 [==============================] - 0s 5ms/step - loss: 0.0159 - accuracy: 1.0000 - val_loss: 0.3137 - val_accuracy: 0.9000\n",
            "Epoch 184/200\n",
            "16/16 [==============================] - 0s 5ms/step - loss: 0.0164 - accuracy: 1.0000 - val_loss: 0.3277 - val_accuracy: 0.8500\n",
            "Epoch 185/200\n",
            "16/16 [==============================] - 0s 4ms/step - loss: 0.0189 - accuracy: 1.0000 - val_loss: 0.3268 - val_accuracy: 0.8500\n",
            "Epoch 186/200\n",
            "16/16 [==============================] - 0s 6ms/step - loss: 0.0130 - accuracy: 1.0000 - val_loss: 0.3350 - val_accuracy: 0.8500\n",
            "Epoch 187/200\n",
            "16/16 [==============================] - 0s 5ms/step - loss: 0.0127 - accuracy: 1.0000 - val_loss: 0.4125 - val_accuracy: 0.8500\n",
            "Epoch 188/200\n",
            "16/16 [==============================] - 0s 4ms/step - loss: 0.0157 - accuracy: 1.0000 - val_loss: 0.3798 - val_accuracy: 0.8500\n",
            "Epoch 189/200\n",
            "16/16 [==============================] - 0s 4ms/step - loss: 0.0100 - accuracy: 1.0000 - val_loss: 0.2320 - val_accuracy: 0.9000\n",
            "Epoch 190/200\n",
            "16/16 [==============================] - 0s 4ms/step - loss: 0.0137 - accuracy: 1.0000 - val_loss: 0.3164 - val_accuracy: 0.9000\n",
            "Epoch 191/200\n",
            "16/16 [==============================] - 0s 4ms/step - loss: 0.0146 - accuracy: 1.0000 - val_loss: 0.3447 - val_accuracy: 0.8500\n",
            "Epoch 192/200\n",
            "16/16 [==============================] - 0s 5ms/step - loss: 0.0094 - accuracy: 1.0000 - val_loss: 0.2276 - val_accuracy: 0.9000\n",
            "Epoch 193/200\n",
            "16/16 [==============================] - 0s 5ms/step - loss: 0.0159 - accuracy: 1.0000 - val_loss: 0.4293 - val_accuracy: 0.8500\n",
            "Epoch 194/200\n",
            "16/16 [==============================] - 0s 4ms/step - loss: 0.0114 - accuracy: 1.0000 - val_loss: 0.3479 - val_accuracy: 0.8500\n",
            "Epoch 195/200\n",
            "16/16 [==============================] - 0s 5ms/step - loss: 0.0142 - accuracy: 1.0000 - val_loss: 0.2678 - val_accuracy: 0.9000\n",
            "Epoch 196/200\n",
            "16/16 [==============================] - 0s 4ms/step - loss: 0.0102 - accuracy: 1.0000 - val_loss: 0.4756 - val_accuracy: 0.8500\n",
            "Epoch 197/200\n",
            "16/16 [==============================] - 0s 5ms/step - loss: 0.0117 - accuracy: 1.0000 - val_loss: 0.3651 - val_accuracy: 0.8500\n",
            "Epoch 198/200\n",
            "16/16 [==============================] - 0s 4ms/step - loss: 0.0143 - accuracy: 1.0000 - val_loss: 0.4188 - val_accuracy: 0.8500\n",
            "Epoch 199/200\n",
            "16/16 [==============================] - 0s 5ms/step - loss: 0.0137 - accuracy: 1.0000 - val_loss: 0.3669 - val_accuracy: 0.8500\n",
            "Epoch 200/200\n",
            "16/16 [==============================] - 0s 4ms/step - loss: 0.0124 - accuracy: 1.0000 - val_loss: 0.3710 - val_accuracy: 0.8500\n"
          ]
        },
        {
          "output_type": "execute_result",
          "data": {
            "text/plain": [
              "<keras.callbacks.History at 0x7fc6dbd9a130>"
            ]
          },
          "metadata": {},
          "execution_count": 50
        }
      ]
    },
    {
      "cell_type": "markdown",
      "source": [
        "## 5. Evaluation & Prediction"
      ],
      "metadata": {
        "id": "kfCppmcEMvbL"
      }
    },
    {
      "cell_type": "code",
      "metadata": {
        "id": "R9rqboVMH7il",
        "colab": {
          "base_uri": "https://localhost:8080/"
        },
        "outputId": "9fd53d03-4527-412b-94bc-6b274187f2cb"
      },
      "source": [
        "# Evaluate the Model\n",
        "model.evaluate(x_test, y_test)"
      ],
      "execution_count": 51,
      "outputs": [
        {
          "output_type": "stream",
          "name": "stdout",
          "text": [
            "2/2 [==============================] - 0s 7ms/step - loss: 0.1198 - accuracy: 0.9600\n"
          ]
        },
        {
          "output_type": "execute_result",
          "data": {
            "text/plain": [
              "[0.11977329105138779, 0.9599999785423279]"
            ]
          },
          "metadata": {},
          "execution_count": 51
        }
      ]
    },
    {
      "cell_type": "code",
      "metadata": {
        "id": "c2EuRMrXIBMs",
        "colab": {
          "base_uri": "https://localhost:8080/"
        },
        "outputId": "ab533946-ac7a-45b8-e9d8-66e5f1072db6"
      },
      "source": [
        "# Predict for the first 25 Observations\n",
        "pred=model.predict(x_test[:])\n",
        "print(pred)"
      ],
      "execution_count": 52,
      "outputs": [
        {
          "output_type": "stream",
          "name": "stdout",
          "text": [
            "2/2 [==============================] - 0s 9ms/step\n",
            "[[9.52372958e-10 2.09051953e-03 9.97909546e-01]\n",
            " [4.50371565e-13 3.96883615e-06 9.99996006e-01]\n",
            " [1.55487803e-10 4.23630263e-04 9.99576390e-01]\n",
            " [4.53107246e-10 1.41192670e-03 9.98587966e-01]\n",
            " [1.95160592e-05 9.98320758e-01 1.65964593e-03]\n",
            " [9.99897420e-01 1.02568083e-04 1.04008871e-17]\n",
            " [9.99998510e-01 1.47946150e-06 8.33130870e-22]\n",
            " [9.99931633e-01 6.82781611e-05 8.84953884e-18]\n",
            " [9.99839067e-01 1.60886935e-04 5.94344887e-17]\n",
            " [2.62202586e-12 2.44119146e-05 9.99975502e-01]\n",
            " [7.35921046e-12 1.07977603e-05 9.99989092e-01]\n",
            " [3.17796703e-16 1.15291115e-07 9.99999821e-01]\n",
            " [9.99992311e-01 7.59566092e-06 3.54401252e-21]\n",
            " [1.62425615e-10 2.27982222e-04 9.99772072e-01]\n",
            " [9.99814749e-01 1.85342011e-04 3.88864025e-17]\n",
            " [1.50180424e-09 3.50493193e-03 9.96495008e-01]\n",
            " [1.37586885e-05 8.67894173e-01 1.32092088e-01]\n",
            " [4.91936749e-04 9.99499381e-01 8.61002445e-06]\n",
            " [9.99948204e-01 5.17655280e-05 1.18743886e-18]\n",
            " [9.99992192e-01 7.73916599e-06 4.72644661e-21]\n",
            " [1.40989911e-12 1.97079480e-05 9.99980271e-01]\n",
            " [1.83194670e-12 1.08309996e-05 9.99989092e-01]\n",
            " [9.99938190e-01 6.17531550e-05 2.59642999e-18]\n",
            " [2.73868136e-06 7.66410768e-01 2.33586475e-01]\n",
            " [9.98864293e-01 1.13563496e-03 2.04903707e-14]\n",
            " [9.99894202e-01 1.05748441e-04 6.96290613e-18]\n",
            " [1.93328160e-05 9.98781681e-01 1.19896606e-03]\n",
            " [2.62857275e-03 9.97359872e-01 1.17007912e-05]\n",
            " [4.71582862e-05 9.99766350e-01 1.86447069e-04]\n",
            " [2.25874828e-05 9.99889076e-01 8.83709363e-05]\n",
            " [2.28075493e-11 6.32966476e-05 9.99936640e-01]\n",
            " [6.40041162e-06 9.98827755e-01 1.16576732e-03]\n",
            " [1.96442525e-05 9.99694705e-01 2.85599439e-04]\n",
            " [3.69759709e-06 9.97968316e-01 2.02792371e-03]\n",
            " [3.91461526e-06 9.48504210e-01 5.14917299e-02]\n",
            " [9.99853373e-01 1.46657942e-04 1.62157774e-17]\n",
            " [4.58462435e-10 4.25898703e-03 9.95741010e-01]\n",
            " [9.99990761e-01 9.17698617e-06 5.25934843e-20]\n",
            " [1.69472631e-08 2.16403464e-03 9.97835934e-01]\n",
            " [6.03674315e-12 3.80284728e-05 9.99961913e-01]\n",
            " [3.28144326e-12 1.53290002e-05 9.99984562e-01]\n",
            " [3.57399476e-05 9.86861587e-01 1.31025622e-02]\n",
            " [1.36395837e-08 1.07065802e-02 9.89293516e-01]\n",
            " [9.99941885e-01 5.80050219e-05 3.43070781e-18]\n",
            " [2.74002741e-05 9.99637246e-01 3.35333607e-04]\n",
            " [1.54244151e-06 4.03037518e-01 5.96960962e-01]\n",
            " [2.25174172e-05 9.99822617e-01 1.54946538e-04]\n",
            " [9.99949753e-01 5.02086041e-05 1.77372814e-18]\n",
            " [1.60565128e-06 9.59145069e-01 4.08533178e-02]\n",
            " [1.59151886e-10 6.28479116e-04 9.99371588e-01]]\n"
          ]
        }
      ]
    },
    {
      "cell_type": "code",
      "metadata": {
        "id": "-cCb0maeIQj0",
        "colab": {
          "base_uri": "https://localhost:8080/"
        },
        "outputId": "cf9ab853-d138-4690-d083-68892fc34439"
      },
      "source": [
        "p=np.argmax(pred, axis=1)\n",
        "print(p)\n",
        "print(y_test[:])"
      ],
      "execution_count": 53,
      "outputs": [
        {
          "output_type": "stream",
          "name": "stdout",
          "text": [
            "[2 2 2 2 1 0 0 0 0 2 2 2 0 2 0 2 1 1 0 0 2 2 0 1 0 0 1 1 1 1 2 1 1 1 1 0 2\n",
            " 0 2 2 2 1 2 0 1 2 1 0 1 2]\n",
            "[2 2 2 2 1 0 0 0 0 2 2 2 0 2 0 2 1 1 0 0 2 2 0 1 0 0 1 1 1 1 2 1 1 1 1 0 2\n",
            " 0 2 2 2 1 1 0 1 1 1 0 1 2]\n"
          ]
        }
      ]
    },
    {
      "cell_type": "code",
      "metadata": {
        "id": "HOlaF7NgLzd1",
        "colab": {
          "base_uri": "https://localhost:8080/"
        },
        "outputId": "5cec0162-2aad-4717-a37a-504d76302b73"
      },
      "source": [
        "# Prediction Result\n",
        "for i in p:\n",
        "  print(\"Predicted-Class: {},   Name: {}\".format(i,z[i]))"
      ],
      "execution_count": 54,
      "outputs": [
        {
          "output_type": "stream",
          "name": "stdout",
          "text": [
            "Predicted-Class: 2,   Name: virginica\n",
            "Predicted-Class: 2,   Name: virginica\n",
            "Predicted-Class: 2,   Name: virginica\n",
            "Predicted-Class: 2,   Name: virginica\n",
            "Predicted-Class: 1,   Name: versicolor\n",
            "Predicted-Class: 0,   Name: setosa\n",
            "Predicted-Class: 0,   Name: setosa\n",
            "Predicted-Class: 0,   Name: setosa\n",
            "Predicted-Class: 0,   Name: setosa\n",
            "Predicted-Class: 2,   Name: virginica\n",
            "Predicted-Class: 2,   Name: virginica\n",
            "Predicted-Class: 2,   Name: virginica\n",
            "Predicted-Class: 0,   Name: setosa\n",
            "Predicted-Class: 2,   Name: virginica\n",
            "Predicted-Class: 0,   Name: setosa\n",
            "Predicted-Class: 2,   Name: virginica\n",
            "Predicted-Class: 1,   Name: versicolor\n",
            "Predicted-Class: 1,   Name: versicolor\n",
            "Predicted-Class: 0,   Name: setosa\n",
            "Predicted-Class: 0,   Name: setosa\n",
            "Predicted-Class: 2,   Name: virginica\n",
            "Predicted-Class: 2,   Name: virginica\n",
            "Predicted-Class: 0,   Name: setosa\n",
            "Predicted-Class: 1,   Name: versicolor\n",
            "Predicted-Class: 0,   Name: setosa\n",
            "Predicted-Class: 0,   Name: setosa\n",
            "Predicted-Class: 1,   Name: versicolor\n",
            "Predicted-Class: 1,   Name: versicolor\n",
            "Predicted-Class: 1,   Name: versicolor\n",
            "Predicted-Class: 1,   Name: versicolor\n",
            "Predicted-Class: 2,   Name: virginica\n",
            "Predicted-Class: 1,   Name: versicolor\n",
            "Predicted-Class: 1,   Name: versicolor\n",
            "Predicted-Class: 1,   Name: versicolor\n",
            "Predicted-Class: 1,   Name: versicolor\n",
            "Predicted-Class: 0,   Name: setosa\n",
            "Predicted-Class: 2,   Name: virginica\n",
            "Predicted-Class: 0,   Name: setosa\n",
            "Predicted-Class: 2,   Name: virginica\n",
            "Predicted-Class: 2,   Name: virginica\n",
            "Predicted-Class: 2,   Name: virginica\n",
            "Predicted-Class: 1,   Name: versicolor\n",
            "Predicted-Class: 2,   Name: virginica\n",
            "Predicted-Class: 0,   Name: setosa\n",
            "Predicted-Class: 1,   Name: versicolor\n",
            "Predicted-Class: 2,   Name: virginica\n",
            "Predicted-Class: 1,   Name: versicolor\n",
            "Predicted-Class: 0,   Name: setosa\n",
            "Predicted-Class: 1,   Name: versicolor\n",
            "Predicted-Class: 2,   Name: virginica\n"
          ]
        }
      ]
    }
  ]
}